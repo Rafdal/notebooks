{
 "cells": [
  {
   "cell_type": "code",
   "execution_count": 30,
   "metadata": {},
   "outputs": [
    {
     "data": {
      "text/latex": [
       "$\\displaystyle \\left[\\begin{matrix}\\dot{\\hat{x_{1}}}\\\\\\dot{\\hat{x_{2}}}\\end{matrix}\\right] = \\left[\\begin{matrix}b_{1}\\\\b_{2}\\end{matrix}\\right] u + \\left[\\begin{matrix}l_{1}\\\\l_{2}\\end{matrix}\\right] \\left[\\begin{matrix}c_{1} & c_{2}\\end{matrix}\\right] \\left(\\left[\\begin{matrix}- \\hat{x_{1}}\\\\- \\hat{x_{2}}\\end{matrix}\\right] + \\left[\\begin{matrix}x_{1}\\\\x_{2}\\end{matrix}\\right]\\right) + \\left[\\begin{matrix}a_{11} & a_{12}\\\\a_{21} & a_{22}\\end{matrix}\\right] \\left[\\begin{matrix}\\hat{x_{1}}\\\\\\hat{x_{2}}\\end{matrix}\\right]$"
      ],
      "text/plain": [
       "Eq(Matrix([\n",
       "[\\dot{\\hat{x_{1}}}],\n",
       "[\\dot{\\hat{x_{2}}}]]), Matrix([\n",
       "[b1],\n",
       "[b2]])*u + Matrix([\n",
       "[l1],\n",
       "[l2]])*Matrix([[c1, c2]])*(Matrix([\n",
       "[-\\hat{x_{1}}],\n",
       "[-\\hat{x_{2}}]]) + Matrix([\n",
       "[x1],\n",
       "[x2]])) + Matrix([\n",
       "[a11, a12],\n",
       "[a21, a22]])*Matrix([\n",
       "[\\hat{x_{1}}],\n",
       "[\\hat{x_{2}}]]))"
      ]
     },
     "metadata": {},
     "output_type": "display_data"
    },
    {
     "data": {
      "text/latex": [
       "$\\displaystyle \\left[\\begin{matrix}\\dot{\\hat{x_{1}}}\\\\\\dot{\\hat{x_{2}}}\\end{matrix}\\right] = \\left[\\begin{matrix}\\hat{x_{1}} a_{11} - \\hat{x_{1}} c_{1} l_{1} + \\hat{x_{2}} a_{12} - \\hat{x_{2}} c_{2} l_{1} + b_{1} u + c_{1} l_{1} x_{1} + c_{2} l_{1} x_{2}\\\\\\hat{x_{1}} a_{21} - \\hat{x_{1}} c_{1} l_{2} + \\hat{x_{2}} a_{22} - \\hat{x_{2}} c_{2} l_{2} + b_{2} u + c_{1} l_{2} x_{1} + c_{2} l_{2} x_{2}\\end{matrix}\\right]$"
      ],
      "text/plain": [
       "Eq(Matrix([\n",
       "[\\dot{\\hat{x_{1}}}],\n",
       "[\\dot{\\hat{x_{2}}}]]), Matrix([\n",
       "[\\hat{x_{1}}*a11 - \\hat{x_{1}}*c1*l1 + \\hat{x_{2}}*a12 - \\hat{x_{2}}*c2*l1 + b1*u + c1*l1*x1 + c2*l1*x2],\n",
       "[\\hat{x_{1}}*a21 - \\hat{x_{1}}*c1*l2 + \\hat{x_{2}}*a22 - \\hat{x_{2}}*c2*l2 + b2*u + c1*l2*x1 + c2*l2*x2]]))"
      ]
     },
     "metadata": {},
     "output_type": "display_data"
    },
    {
     "data": {
      "text/latex": [
       "$\\displaystyle \\hat{y} = \\left[\\begin{matrix}c_{1} & c_{2}\\end{matrix}\\right] \\left[\\begin{matrix}\\hat{x_{1}}\\\\\\hat{x_{2}}\\end{matrix}\\right]$"
      ],
      "text/plain": [
       "Eq(\\hat{y}, Matrix([[c1, c2]])*Matrix([\n",
       "[\\hat{x_{1}}],\n",
       "[\\hat{x_{2}}]]))"
      ]
     },
     "metadata": {},
     "output_type": "display_data"
    }
   ],
   "source": [
    "import sympy as sp\n",
    "from sympy import MatAdd, MatMul\n",
    "import numpy as np\n",
    "\n",
    "\n",
    "t = sp.symbols('t', real=True)\n",
    "x1, x2 = sp.symbols('x1 x2')\n",
    "x1hat, x2hat = sp.symbols('\\\\hat{x_{1}} \\\\hat{x_{2}}')\n",
    "x1dot, x2dot = sp.symbols('\\\\dot{x_{1}} \\\\dot{x_{2}}')\n",
    "x1hatdot, x2hatdot = sp.symbols('\\\\dot{\\\\hat{x_{1}}} \\\\dot{\\\\hat{x_{2}}}')\n",
    "y, yhat, ye = sp.symbols('y \\\\hat{y} y_e')\n",
    "\n",
    "a11, a12, a21, a22 = sp.symbols('a11 a12 a21 a22')\n",
    "b1, b2 = sp.symbols('b1 b2')\n",
    "u = sp.symbols('u')\n",
    "l1, l2 = sp.symbols('l1 l2')\n",
    "c1, c2 = sp.symbols('c1 c2')\n",
    "\n",
    "A = sp.Matrix([[a11, a12], [a21, a22]])\n",
    "B = sp.Matrix([[b1], [b2]])\n",
    "C = sp.Matrix([[c1, c2]])\n",
    "L = sp.Matrix([[l1], [l2]])\n",
    "\n",
    "X = sp.Matrix([[x1], [x2]])\n",
    "Xdot = sp.Matrix([[x1dot], [x2dot]])\n",
    "\n",
    "Xhat = sp.Matrix([[x1hat], [x2hat]])\n",
    "Xhatdot = sp.Matrix([[x1hatdot], [x2hatdot]])\n",
    "\n",
    "eq1 = sp.Eq(Xhatdot, MatAdd(MatMul(A, Xhat), MatMul(B, u), MatMul(L, C, MatAdd(X, -Xhat)), evaluate=False), evaluate=False)\n",
    "display(eq1)\n",
    "display(eq1.expand())\n",
    "\n",
    "eq2 = sp.Eq(yhat, MatMul(C, Xhat), evaluate=False)\n",
    "display(eq2)"
   ]
  }
 ],
 "metadata": {
  "kernelspec": {
   "display_name": "Python 3",
   "language": "python",
   "name": "python3"
  },
  "language_info": {
   "codemirror_mode": {
    "name": "ipython",
    "version": 3
   },
   "file_extension": ".py",
   "mimetype": "text/x-python",
   "name": "python",
   "nbconvert_exporter": "python",
   "pygments_lexer": "ipython3",
   "version": "3.12.1"
  }
 },
 "nbformat": 4,
 "nbformat_minor": 2
}
