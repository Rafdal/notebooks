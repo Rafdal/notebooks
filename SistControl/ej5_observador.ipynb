{
 "cells": [
  {
   "cell_type": "code",
   "execution_count": 32,
   "metadata": {},
   "outputs": [
    {
     "data": {
      "text/latex": [
       "$\\displaystyle S_{io} = -7.547 + 11.621 i$"
      ],
      "text/plain": [
       "Eq(S_{io}, -7.547 + 11.621*I)"
      ]
     },
     "metadata": {},
     "output_type": "display_data"
    },
    {
     "data": {
      "text/latex": [
       "$\\displaystyle S_{io} = -7.547 - 11.621 i$"
      ],
      "text/plain": [
       "Eq(S_{io}, -7.547 - 11.621*I)"
      ]
     },
     "metadata": {},
     "output_type": "display_data"
    },
    {
     "name": "stdout",
     "output_type": "stream",
     "text": [
      "complex poles |S_io| = 13.857\n",
      "\n",
      "Desired observer polynomial:\n"
     ]
    },
    {
     "data": {
      "text/latex": [
       "$\\displaystyle P_{o} = 1.0 s^{2} + 15.094 s + 192.0$"
      ],
      "text/plain": [
       "Eq(P_o, 1.0*s**2 + 15.094*s + 192.0)"
      ]
     },
     "metadata": {},
     "output_type": "display_data"
    }
   ],
   "source": [
    "# clear all variables from the notebook\n",
    "for name in dir():\n",
    "    if not name.startswith('_'):\n",
    "        del globals()[name]\n",
    "\n",
    "import sympy as sp\n",
    "import numpy as np\n",
    "\n",
    "S_roots_planta = [-0.7547 + 1.1621*sp.I, -0.7547 - 1.1621*sp.I]\n",
    "\n",
    "S_obs_factor = 10  # veces por arriba de los polos de la planta \n",
    "\n",
    "\n",
    "\n",
    "# Define the symbols\n",
    "s = sp.symbols('s', complex=True)\n",
    "S_roots_obs = []\n",
    "for Si in S_roots_planta:\n",
    "    S_roots_obs.append(Si * S_obs_factor)\n",
    "    display(sp.Eq(sp.symbols(f'S_{{io}}'), sp.N(S_roots_obs[-1], 5)))\n",
    "\n",
    "print(f\"complex poles |S_io| = { np.abs(complex(sp.N(S_roots_obs[0], 5))):.03f}\\n\")\n",
    "\n",
    "desired_obs_poly = 1\n",
    "for root in S_roots_obs:\n",
    "    desired_obs_poly *= (s - root)\n",
    "desired_obs_poly = sp.N(desired_obs_poly, 5).as_poly(s).as_expr()\n",
    "\n",
    "print(\"Desired observer polynomial:\")\n",
    "display(sp.Eq(sp.symbols('P_o'), desired_obs_poly, evaluate=False))"
   ]
  },
  {
   "cell_type": "code",
   "execution_count": 33,
   "metadata": {},
   "outputs": [
    {
     "name": "stdout",
     "output_type": "stream",
     "text": [
      "L equation:\n"
     ]
    },
    {
     "data": {
      "text/latex": [
       "$\\displaystyle \\left|{s \\mathbb{I} + \\left[\\begin{matrix}L_{1}\\\\L_{2}\\end{matrix}\\right] C - A}\\right| = 0$"
      ],
      "text/plain": [
       "Eq(Determinant(s*I + Matrix([\n",
       "[L1],\n",
       "[L2]])*C - A), 0)"
      ]
     },
     "metadata": {},
     "output_type": "display_data"
    },
    {
     "name": "stdout",
     "output_type": "stream",
     "text": [
      "with values\n"
     ]
    },
    {
     "data": {
      "text/latex": [
       "$\\displaystyle \\left|{\\left[\\begin{matrix}0 & -1\\\\0 & 261.72\\end{matrix}\\right] + \\left[\\begin{matrix}L_{1} & 0\\\\L_{2} & 0\\end{matrix}\\right] + \\left[\\begin{matrix}s & 0\\\\0 & s\\end{matrix}\\right]}\\right| = 0$"
      ],
      "text/plain": [
       "Eq(Determinant(Matrix([\n",
       "[0,     -1],\n",
       "[0, 261.72]]) + Matrix([\n",
       "[L1, 0],\n",
       "[L2, 0]]) + Matrix([\n",
       "[s, 0],\n",
       "[0, s]])), 0)"
      ]
     },
     "metadata": {},
     "output_type": "display_data"
    },
    {
     "name": "stdout",
     "output_type": "stream",
     "text": [
      "combined\n"
     ]
    },
    {
     "data": {
      "text/latex": [
       "$\\displaystyle \\left|{\\begin{matrix}L_{1} + s & -1\\\\L_{2} & s + 261.72\\end{matrix}}\\right| = 0$"
      ],
      "text/plain": [
       "Eq(Determinant(Matrix([\n",
       "[L1 + s,         -1],\n",
       "[    L2, s + 261.72]])), 0)"
      ]
     },
     "metadata": {},
     "output_type": "display_data"
    },
    {
     "name": "stdout",
     "output_type": "stream",
     "text": [
      "simplified\n"
     ]
    },
    {
     "data": {
      "text/latex": [
       "$\\displaystyle 261.72 L_{1} + 1.0 L_{2} + 1.0 s^{2} + s \\left(1.0 L_{1} + 261.72\\right) = 0$"
      ],
      "text/plain": [
       "Eq(261.72*L1 + 1.0*L2 + 1.0*s**2 + s*(1.0*L1 + 261.72), 0)"
      ]
     },
     "metadata": {},
     "output_type": "display_data"
    }
   ],
   "source": [
    "# Define A, B, C matrices\n",
    "A = [   [0,     1       ], \n",
    "        [0,     -261.72 ]]\n",
    "\n",
    "B = [   [0      ], \n",
    "        [244.68 ]]\n",
    "\n",
    "C = [   [1,     0]  ]\n",
    "\n",
    "\n",
    "# Ya definieron todo lo necesario para calcular, ahora es solo ver los resultados\n",
    "A = sp.Matrix(A)\n",
    "B = sp.Matrix(B)\n",
    "C = sp.Matrix(C)\n",
    "\n",
    "A_sym = sp.MatrixSymbol('A', 2, 2)\n",
    "B_sym = sp.MatrixSymbol('B', 2, 1)\n",
    "C_sym = sp.MatrixSymbol('C', 1, 2)\n",
    "L1, L2 = sp.symbols('L1 L2')\n",
    "\n",
    "L = sp.Matrix([[L1], [L2]])\n",
    "\n",
    "\n",
    "L_eq = sp.Eq( sp.Determinant(s * sp.Identity(2) - sp.MatAdd(A_sym, -sp.MatMul(L,C_sym, evaluate=False), evaluate=False)), 0, evaluate=False)\n",
    "print(\"L equation:\")\n",
    "display(L_eq)\n",
    "\n",
    "L_eq = L_eq.subs(A_sym, A).subs(B_sym, B).subs(C_sym, C).subs(sp.Identity(2), sp.eye(2)).expand().doit()\n",
    "print(\"with values\")\n",
    "display(L_eq)\n",
    "# # combine the terms\n",
    "\n",
    "L_eq = sp.Eq(sp.Determinant(L_eq.lhs.arg.doit()), 0)\n",
    "print(\"combined\")\n",
    "display(L_eq)\n",
    "\n",
    "observer_poly = L_eq.doit().as_poly(s).as_expr()\n",
    "print(\"simplified\")\n",
    "display(sp.Eq(observer_poly, 0))"
   ]
  },
  {
   "cell_type": "code",
   "execution_count": 34,
   "metadata": {},
   "outputs": [
    {
     "name": "stdout",
     "output_type": "stream",
     "text": [
      "Solution:\n"
     ]
    },
    {
     "data": {
      "text/latex": [
       "$\\displaystyle L_{1} = -246.6$"
      ],
      "text/plain": [
       "Eq(L1, -246.6)"
      ]
     },
     "metadata": {},
     "output_type": "display_data"
    },
    {
     "data": {
      "text/latex": [
       "$\\displaystyle L_{2} = 6.474 \\cdot 10^{4}$"
      ],
      "text/plain": [
       "Eq(L2, 6.474e+4)"
      ]
     },
     "metadata": {},
     "output_type": "display_data"
    }
   ],
   "source": [
    "# iterate both polynomials to get the coefficients\n",
    "eqs = []\n",
    "for i in range(3):\n",
    "    lhs = observer_poly.as_poly(s).coeffs()[i]\n",
    "    rhs = desired_obs_poly.as_poly(s).coeffs()[i]\n",
    "    eqs.append(sp.Eq(lhs, rhs))\n",
    "\n",
    "sol = sp.solve(eqs, (L1, L2))\n",
    "\n",
    "print(\"Solution:\")\n",
    "for key, val in sol.items():\n",
    "    display(sp.Eq(key, sp.N(val, 4)))"
   ]
  }
 ],
 "metadata": {
  "kernelspec": {
   "display_name": "Python 3",
   "language": "python",
   "name": "python3"
  },
  "language_info": {
   "codemirror_mode": {
    "name": "ipython",
    "version": 3
   },
   "file_extension": ".py",
   "mimetype": "text/x-python",
   "name": "python",
   "nbconvert_exporter": "python",
   "pygments_lexer": "ipython3",
   "version": "3.12.1"
  }
 },
 "nbformat": 4,
 "nbformat_minor": 2
}
