{
 "cells": [
  {
   "cell_type": "code",
   "execution_count": 24,
   "metadata": {},
   "outputs": [
    {
     "name": "stdout",
     "output_type": "stream",
     "text": [
      "Is = 3.00e-11A\n",
      "Vt = 0.02572V\n",
      "T = 298.15K\n",
      "\n",
      "V = -10.0000V,\tr = 6.57e+177 Ohm\n",
      "V = -5.0000V,\tr = 2.37e+93 Ohm\n",
      "V = -0.2000V,\tr = 2.05e+12 Ohm\n",
      "V = -0.0257V,\tr = 2.33e+09 Ohm\n",
      "V = 0.0257V,\tr = 3.15e+08 Ohm\n",
      "V = 0.2000V,\tr = 3.59e+05 Ohm\n",
      "V = 0.5000V,\tr = 3.08e+00 Ohm\n"
     ]
    }
   ],
   "source": [
    "import sympy as sp\n",
    "import numpy as np\n",
    "import matplotlib.pyplot as plt\n",
    "\n",
    "k = 1.38e-23    # J/K\n",
    "q = 1.6e-19     # C\n",
    "T = 273.15 + 25         # K\n",
    "\n",
    "def r_d(Vt, Is, V):\n",
    "    return (Vt/Is) * np.exp(-V/Vt)\n",
    "\n",
    "def V_(T): \n",
    "    return (k*T)/q\n",
    "\n",
    "V_d = [-10, -5, -0.2, -V_(T), V_(T), 0.2, 0.5]\n",
    "\n",
    "I_s = 30e-12    # A\n",
    "print(f'Is = {I_s:.2e}A')\n",
    "print(f'Vt = {V_(T):.5f}V')\n",
    "print(f'T = {T}K')\n",
    "print()\n",
    "\n",
    "for V in V_d:\n",
    "    r = r_d(V_(T), I_s, V)\n",
    "    print(f'V = {V:.4f}V,\\tr = {r:.2e} Ohm')"
   ]
  },
  {
   "cell_type": "code",
   "execution_count": 28,
   "metadata": {},
   "outputs": [
    {
     "name": "stdout",
     "output_type": "stream",
     "text": [
      "Is = 3.072e-08A\n",
      "V = -10.0000V,\tr = 3.279e+132 Ohm\n",
      "V = -5.0000V,\tr = 1.915e+69 Ohm\n",
      "V = -0.2000V,\tr = 3.782e+08 Ohm\n",
      "V = -0.0257V,\tr = 2.364e+06 Ohm\n",
      "V = 0.0257V,\tr = 5.287e+05 Ohm\n",
      "V = 0.2000V,\tr = 3.304e+03 Ohm\n",
      "V = 0.5000V,\tr = 5.309e-01 Ohm\n"
     ]
    }
   ],
   "source": [
    "I_s = 30e-12  * 2**10   # A\n",
    "T = 273.15 + 125        # K\n",
    "print(f'Is = {I_s:.3e}A')\n",
    "for V in V_d:\n",
    "    r = r_d(V_(T), I_s, V)\n",
    "    print(f'V = {V:.4f}V,\\tr = {r:.3e} Ohm')"
   ]
  }
 ],
 "metadata": {
  "kernelspec": {
   "display_name": "env",
   "language": "python",
   "name": "python3"
  },
  "language_info": {
   "codemirror_mode": {
    "name": "ipython",
    "version": 3
   },
   "file_extension": ".py",
   "mimetype": "text/x-python",
   "name": "python",
   "nbconvert_exporter": "python",
   "pygments_lexer": "ipython3",
   "version": "3.10.12"
  }
 },
 "nbformat": 4,
 "nbformat_minor": 2
}
