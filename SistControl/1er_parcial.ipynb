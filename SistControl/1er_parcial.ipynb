{
 "cells": [
  {
   "cell_type": "code",
   "execution_count": 1,
   "metadata": {},
   "outputs": [],
   "source": [
    "import sympy as sp\n",
    "import numpy as np"
   ]
  },
  {
   "cell_type": "code",
   "execution_count": 181,
   "metadata": {},
   "outputs": [
    {
     "name": "stdout",
     "output_type": "stream",
     "text": [
      "Response parameters:\n"
     ]
    },
    {
     "data": {
      "text/latex": [
       "$\\displaystyle \\xi = 0.4673$"
      ],
      "text/plain": [
       "Eq(\\xi, 0.4673)"
      ]
     },
     "metadata": {},
     "output_type": "display_data"
    },
    {
     "data": {
      "text/latex": [
       "$\\displaystyle \\omega_{n} = 4.505$"
      ],
      "text/plain": [
       "Eq(\\omega_n, 4.505)"
      ]
     },
     "metadata": {},
     "output_type": "display_data"
    },
    {
     "data": {
      "text/latex": [
       "$\\displaystyle S_{1} = -2.105 + 3.983 i$"
      ],
      "text/plain": [
       "Eq(S_1, -2.105 + 3.983*I)"
      ]
     },
     "metadata": {},
     "output_type": "display_data"
    },
    {
     "data": {
      "text/latex": [
       "$\\displaystyle S_{2} = -2.105 - 3.983 i$"
      ],
      "text/plain": [
       "Eq(S_2, -2.105 - 3.983*I)"
      ]
     },
     "metadata": {},
     "output_type": "display_data"
    },
    {
     "data": {
      "text/latex": [
       "$\\displaystyle S_{3} = -100.0$"
      ],
      "text/plain": [
       "Eq(S_3, -100.0)"
      ]
     },
     "metadata": {},
     "output_type": "display_data"
    },
    {
     "name": "stdout",
     "output_type": "stream",
     "text": [
      "Desired polynomial:\n"
     ]
    },
    {
     "data": {
      "text/latex": [
       "$\\displaystyle P_{d} = \\left(s + 100.0\\right) \\left(s + 2.105 - 3.983 i\\right) \\left(s + 2.105 + 3.983 i\\right)$"
      ],
      "text/plain": [
       "Eq(P_d, (s + 100.0)*(s + 2.105 - 3.983*I)*(s + 2.105 + 3.983*I))"
      ]
     },
     "metadata": {},
     "output_type": "display_data"
    },
    {
     "data": {
      "text/latex": [
       "$\\displaystyle P_{d} = 1.0 s^{3} + 104.2 s^{2} + 441.3 s + 2029.0$"
      ],
      "text/plain": [
       "Eq(P_d, 1.0*s**3 + 104.2*s**2 + 441.3*s + 2029.0)"
      ]
     },
     "metadata": {},
     "output_type": "display_data"
    }
   ],
   "source": [
    "# Define A, B, C matrices\n",
    "A = sp.Matrix([\n",
    "    [0, 4], \n",
    "    [0, 1]])\n",
    "B = sp.Matrix([\n",
    "    [0], \n",
    "    [10]])\n",
    "C = sp.Matrix([[1, 0]])\n",
    "\n",
    "Ts_val = 1.9            # [s]               (Tiempo de asentamiento)\n",
    "os = 0.19               # [%/100]           (Overshoot)\n",
    "err_perm_nulo = True\n",
    "S_3 = -100              # [rad/s]           (3er polo)\n",
    "\n",
    "\n",
    "\n",
    "# Define the symbols\n",
    "s = sp.symbols('s', complex=True)\n",
    "Ts, xi, wn = sp.symbols('T_S \\\\xi \\\\omega_n', positive=True, real=True)\n",
    "k1, k2, ke = sp.symbols('k_1 k_2 k_e')\n",
    "\n",
    "xi_val = sp.simplify((-sp.ln(os) / sp.sqrt(sp.pi**2 + sp.ln(os)**2))).evalf()\n",
    "wn_val = sp.simplify(4 / (xi_val * Ts_val)).evalf()\n",
    "S_roots = [(-xi_val*wn_val + j*wn_val*sp.sqrt(1 - xi_val**2)).evalf() for j in [sp.I, -sp.I]]\n",
    "S_roots.append(S_3)\n",
    "\n",
    "print(\"Response parameters:\")\n",
    "display(sp.Eq(xi, sp.N(xi_val, 4)), sp.Eq(wn, sp.N(wn_val, 4)))\n",
    "for i, root in enumerate(S_roots):\n",
    "    root = sp.N(root, 4)\n",
    "    # print(f\"S_{i+1}: {str(root).ljust(20)} = {np.abs(root)}  /_  {np.angle(complex(root)):0.2f} rad\")\n",
    "    display(sp.Eq(sp.symbols(f'S_{i+1}'), root))\n",
    "\n",
    "desired_poly = 1\n",
    "for root in S_roots:\n",
    "    desired_poly *= (s - root)\n",
    "desired_poly = sp.N(desired_poly, 4)\n",
    "\n",
    "print(\"Desired polynomial:\")\n",
    "display(sp.Eq(sp.symbols('P_d'), desired_poly))\n",
    "desired_poly = desired_poly.as_poly(s).as_expr()\n",
    "display(sp.Eq(sp.symbols('P_d'), desired_poly, evaluate=False))"
   ]
  },
  {
   "cell_type": "code",
   "execution_count": 182,
   "metadata": {},
   "outputs": [
    {
     "data": {
      "text/latex": [
       "$\\displaystyle A_{a} = \\left[\\begin{matrix}0 & 4 & 0\\\\0 & 1 & 0\\\\1 & 0 & 0\\end{matrix}\\right]$"
      ],
      "text/plain": [
       "Eq(A_a, Matrix([\n",
       "[0, 4, 0],\n",
       "[0, 1, 0],\n",
       "[1, 0, 0]]))"
      ]
     },
     "metadata": {},
     "output_type": "display_data"
    },
    {
     "data": {
      "text/latex": [
       "$\\displaystyle B_{a} = \\left[\\begin{matrix}0\\\\10\\\\0\\end{matrix}\\right]$"
      ],
      "text/plain": [
       "Eq(B_a, Matrix([\n",
       "[ 0],\n",
       "[10],\n",
       "[ 0]]))"
      ]
     },
     "metadata": {},
     "output_type": "display_data"
    },
    {
     "data": {
      "text/latex": [
       "$\\displaystyle C_{a} = \\left[\\begin{matrix}1 & 0 & 0\\end{matrix}\\right]$"
      ],
      "text/plain": [
       "Eq(C_a, Matrix([[1, 0, 0]]))"
      ]
     },
     "metadata": {},
     "output_type": "display_data"
    },
    {
     "name": "stdout",
     "output_type": "stream",
     "text": [
      "Pole placement equation:\n"
     ]
    },
    {
     "data": {
      "text/latex": [
       "$\\displaystyle \\left|{s \\mathbb{I} - A_{a} + B_{a} \\left[\\begin{matrix}k_{1} & k_{2} & - k_{e}\\end{matrix}\\right]}\\right| = 0$"
      ],
      "text/plain": [
       "Eq(Determinant(s*I - A_a + B_a*Matrix([[k_1, k_2, -k_e]])), 0)"
      ]
     },
     "metadata": {},
     "output_type": "display_data"
    },
    {
     "name": "stdout",
     "output_type": "stream",
     "text": [
      "with values\n"
     ]
    },
    {
     "data": {
      "text/latex": [
       "$\\displaystyle \\left|{\\left[\\begin{matrix}0 & -4 & 0\\\\0 & -1 & 0\\\\-1 & 0 & 0\\end{matrix}\\right] + \\left[\\begin{matrix}0 & 0 & 0\\\\10 k_{1} & 10 k_{2} & - 10 k_{e}\\\\0 & 0 & 0\\end{matrix}\\right] + \\left[\\begin{matrix}s & 0 & 0\\\\0 & s & 0\\\\0 & 0 & s\\end{matrix}\\right]}\\right| = 0$"
      ],
      "text/plain": [
       "Eq(Determinant(Matrix([\n",
       "[ 0, -4, 0],\n",
       "[ 0, -1, 0],\n",
       "[-1,  0, 0]]) + Matrix([\n",
       "[     0,      0,       0],\n",
       "[10*k_1, 10*k_2, -10*k_e],\n",
       "[     0,      0,       0]]) + Matrix([\n",
       "[s, 0, 0],\n",
       "[0, s, 0],\n",
       "[0, 0, s]])), 0)"
      ]
     },
     "metadata": {},
     "output_type": "display_data"
    },
    {
     "name": "stdout",
     "output_type": "stream",
     "text": [
      "combined\n"
     ]
    },
    {
     "data": {
      "text/latex": [
       "$\\displaystyle \\left|{\\begin{matrix}s & -4 & 0\\\\10 k_{1} & 10 k_{2} + s - 1 & - 10 k_{e}\\\\-1 & 0 & s\\end{matrix}}\\right| = 0$"
      ],
      "text/plain": [
       "Eq(Determinant(Matrix([\n",
       "[     s,             -4,       0],\n",
       "[10*k_1, 10*k_2 + s - 1, -10*k_e],\n",
       "[    -1,              0,       s]])), 0)"
      ]
     },
     "metadata": {},
     "output_type": "display_data"
    },
    {
     "name": "stdout",
     "output_type": "stream",
     "text": [
      "simplified\n"
     ]
    },
    {
     "data": {
      "text/latex": [
       "$\\displaystyle 40 k_{1} s - 40 k_{e} + s^{3} + s^{2} \\cdot \\left(10 k_{2} - 1\\right) = 0$"
      ],
      "text/plain": [
       "Eq(40*k_1*s - 40*k_e + s**3 + s**2*(10*k_2 - 1), 0)"
      ]
     },
     "metadata": {},
     "output_type": "display_data"
    }
   ],
   "source": [
    "Aa = sp.MatrixSymbol('A_a', 3, 3)\n",
    "Ba = sp.MatrixSymbol('B_a', 3, 1)\n",
    "Ca = sp.MatrixSymbol('C_a', 3, 3)\n",
    "\n",
    "Aa_val = sp.Matrix([[A, sp.zeros(2, 1)], [C, sp.zeros(1, 1)]])\n",
    "Ba_val = sp.Matrix([B, sp.zeros(1, 1)])\n",
    "Ca_val = sp.Matrix([[C, sp.zeros(1, 1)]])\n",
    "k = sp.Matrix([[k1, k2, -ke]])\n",
    "\n",
    "display(sp.Eq(Aa, Aa_val, evaluate=False), sp.Eq(Ba, Ba_val, evaluate=False), sp.Eq(Ca, Ca_val, evaluate=False))\n",
    "\n",
    "pole_place_eq = sp.Eq( sp.Determinant(s * sp.Identity(3) - Aa + Ba*k), 0)\n",
    "print(\"Pole placement equation:\")\n",
    "display(pole_place_eq)\n",
    "\n",
    "pole_place_eq = pole_place_eq.subs(Aa, Aa_val).subs(Ba, Ba_val).subs(sp.Identity(3), sp.eye(3)).expand().doit()\n",
    "print(\"with values\")\n",
    "display(pole_place_eq)\n",
    "# combine the terms\n",
    "\n",
    "pole_place_eq = sp.Eq(sp.Determinant(pole_place_eq.lhs.arg.doit()), 0)\n",
    "print(\"combined\")\n",
    "display(pole_place_eq)\n",
    "\n",
    "pole_place_eq = pole_place_eq.doit().as_poly(s).as_expr()\n",
    "print(\"simplified\")\n",
    "display(sp.Eq(pole_place_eq, 0))"
   ]
  },
  {
   "cell_type": "code",
   "execution_count": 183,
   "metadata": {},
   "outputs": [
    {
     "name": "stdout",
     "output_type": "stream",
     "text": [
      "Solution:\n"
     ]
    },
    {
     "data": {
      "text/latex": [
       "$\\displaystyle k_{1} = 11.0325$"
      ],
      "text/plain": [
       "Eq(k_1, 11.0325)"
      ]
     },
     "metadata": {},
     "output_type": "display_data"
    },
    {
     "data": {
      "text/latex": [
       "$\\displaystyle k_{2} = 10.52$"
      ],
      "text/plain": [
       "Eq(k_2, 10.52)"
      ]
     },
     "metadata": {},
     "output_type": "display_data"
    },
    {
     "data": {
      "text/latex": [
       "$\\displaystyle k_{e} = -50.725$"
      ],
      "text/plain": [
       "Eq(k_e, -50.725)"
      ]
     },
     "metadata": {},
     "output_type": "display_data"
    }
   ],
   "source": [
    "# iterate both polynomials to get the coefficients\n",
    "eqs = []\n",
    "for i in range(4):\n",
    "    lhs = desired_poly.as_poly(s).coeffs()[i]\n",
    "    rhs = pole_place_eq.as_poly(s).coeffs()[i]\n",
    "    eqs.append(sp.Eq(lhs, rhs))\n",
    "\n",
    "sol = sp.solve(eqs, (k1, k2, ke))\n",
    "\n",
    "print(\"Solution:\")\n",
    "for key, val in sol.items():\n",
    "    display(sp.Eq(key, val))\n",
    "\n",
    "k1_val, k2_val, ke_val = [val.evalf() for val in sol.values()]\n",
    "# k_val = sp.Matrix([k1_val, k2_val, ke_val])"
   ]
  },
  {
   "cell_type": "markdown",
   "metadata": {},
   "source": [
    "# Error permanente\n",
    "\n",
    "$ e_{ss} = \\lim_{s \\to \\infty} s R(s) \\left[ 1 - C \\left( s I - A_{cl} \\right)^{-1} \\right] $\n",
    "\n",
    "$ e_{ss} = \\left[ 1 - C \\left(A_{cl} \\right)^{-1} \\right] $"
   ]
  },
  {
   "cell_type": "code",
   "execution_count": 180,
   "metadata": {},
   "outputs": [
    {
     "data": {
      "text/latex": [
       "$\\displaystyle \\lim_{s \\to 0^+}\\left(1.62780638516993 s R{\\left(s \\right)}\\right)$"
      ],
      "text/plain": [
       "Limit(1.62780638516993*s*R(s), s, 0, dir='+')"
      ]
     },
     "execution_count": 180,
     "metadata": {},
     "output_type": "execute_result"
    }
   ],
   "source": [
    "# permanent error\n",
    "Rs = sp.Function('R')(s)\n",
    "\n",
    "# matrix to scalar value function\n",
    "Acl = A - B * sp.Matrix([[k1_val, k2_val]])\n",
    "\n",
    "\n",
    "# display(sp.Eq(inv_sym, inv, evaluate=False))\n",
    "\n",
    "ess = sp.Limit(s*Rs*(1 - (C*(Acl).inv())[0]), s, 0)\n",
    "\n",
    "# ess = ess.subs(Rs, 1/s)\n",
    "# ess.evalf()\n",
    "\n",
    "ess\n"
   ]
  }
 ],
 "metadata": {
  "kernelspec": {
   "display_name": "Python 3",
   "language": "python",
   "name": "python3"
  },
  "language_info": {
   "codemirror_mode": {
    "name": "ipython",
    "version": 3
   },
   "file_extension": ".py",
   "mimetype": "text/x-python",
   "name": "python",
   "nbconvert_exporter": "python",
   "pygments_lexer": "ipython3",
   "version": "3.12.1"
  }
 },
 "nbformat": 4,
 "nbformat_minor": 2
}
